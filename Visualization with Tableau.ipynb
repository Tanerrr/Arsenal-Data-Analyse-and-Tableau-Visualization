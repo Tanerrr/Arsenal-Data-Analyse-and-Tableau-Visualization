{
 "cells": [
  {
   "cell_type": "markdown",
   "metadata": {},
   "source": [
    "# 2 - Visualization with Tableau"
   ]
  },
  {
   "cell_type": "markdown",
   "metadata": {},
   "source": [
    "### In this step, I visualize some interessant statistics of Arsenal's 2018 - 2019 Season."
   ]
  },
  {
   "cell_type": "markdown",
   "metadata": {},
   "source": [
    "Taking time is one of the important parameters showing the success of the players in football, as in many sports."
   ]
  },
  {
   "cell_type": "markdown",
   "metadata": {},
   "source": [
    "<img src='appearances.jpg' />"
   ]
  },
  {
   "cell_type": "markdown",
   "metadata": {},
   "source": [
    "---"
   ]
  },
  {
   "cell_type": "markdown",
   "metadata": {},
   "source": [
    "Number of assists gives us an important clue about player performance, especially for offensive players."
   ]
  },
  {
   "cell_type": "markdown",
   "metadata": {},
   "source": [
    "<img src='assists.jpg' />"
   ]
  },
  {
   "cell_type": "markdown",
   "metadata": {},
   "source": [
    "---"
   ]
  },
  {
   "cell_type": "markdown",
   "metadata": {},
   "source": [
    "The number of goals is of course a very important criterion. But here we may see the success rate between the two by seeing the number of goals side by side with the number of shots."
   ]
  },
  {
   "cell_type": "markdown",
   "metadata": {},
   "source": [
    "<img src='shots_vs_goals.jpg' />"
   ]
  },
  {
   "cell_type": "markdown",
   "metadata": {},
   "source": [
    "---"
   ]
  },
  {
   "cell_type": "markdown",
   "metadata": {},
   "source": [
    "With the image below, we can easily notice which nationalities Arsenal has a squad of players this season."
   ]
  },
  {
   "cell_type": "markdown",
   "metadata": {},
   "source": [
    "<img src='nationalities.jpg' />"
   ]
  },
  {
   "cell_type": "markdown",
   "metadata": {},
   "source": [
    "---"
   ]
  },
  {
   "cell_type": "markdown",
   "metadata": {},
   "source": [
    "Finally, we can examine all statistics together in a single image."
   ]
  },
  {
   "cell_type": "markdown",
   "metadata": {},
   "source": [
    "<img src='all_in_one.jpg' />"
   ]
  },
  {
   "cell_type": "markdown",
   "metadata": {},
   "source": [
    "---"
   ]
  },
  {
   "cell_type": "markdown",
   "metadata": {},
   "source": [
    "## Using Tableau Public's share feature, we can see the interactive visualization."
   ]
  },
  {
   "cell_type": "markdown",
   "metadata": {},
   "source": [
    "<div class='tableauPlaceholder' id='viz1609257268077' style='position: relative'><noscript><a href='#'><img alt=' ' src='https:&#47;&#47;public.tableau.com&#47;static&#47;images&#47;Ar&#47;Arsenal2018-2019Statistics&#47;2018-2019ArsenalStatistics&#47;1_rss.png' style='border: none' /></a></noscript><object class='tableauViz'  style='display:none;'><param name='host_url' value='https%3A%2F%2Fpublic.tableau.com%2F' /> <param name='embed_code_version' value='3' /> <param name='site_root' value='' /><param name='name' value='Arsenal2018-2019Statistics&#47;2018-2019ArsenalStatistics' /><param name='tabs' value='no' /><param name='toolbar' value='yes' /><param name='static_image' value='https:&#47;&#47;public.tableau.com&#47;static&#47;images&#47;Ar&#47;Arsenal2018-2019Statistics&#47;2018-2019ArsenalStatistics&#47;1.png' /> <param name='animate_transition' value='yes' /><param name='display_static_image' value='yes' /><param name='display_spinner' value='yes' /><param name='display_overlay' value='yes' /><param name='display_count' value='yes' /><param name='language' value='en' /><param name='filter' value='publish=yes' /></object></div>                <script type='text/javascript'>                    var divElement = document.getElementById('viz1609257268077');                    var vizElement = divElement.getElementsByTagName('object')[0];                    if ( divElement.offsetWidth > 800 ) { vizElement.style.width='1366px';vizElement.style.height='795px';} else if ( divElement.offsetWidth > 500 ) { vizElement.style.width='1366px';vizElement.style.height='795px';} else { vizElement.style.width='100%';vizElement.style.height='1227px';}                     var scriptElement = document.createElement('script');                    scriptElement.src = 'https://public.tableau.com/javascripts/api/viz_v1.js';                    vizElement.parentNode.insertBefore(scriptElement, vizElement);                </script>"
   ]
  },
  {
   "cell_type": "code",
   "execution_count": 5,
   "metadata": {},
   "outputs": [
    {
     "data": {
      "text/html": [
       "<div class='tableauPlaceholder' id='viz1609257771223' style='position: relative'><noscript><a href='#'><img alt=' ' src='https:&#47;&#47;public.tableau.com&#47;static&#47;images&#47;Ar&#47;Arsenal2018-2019Statistics&#47;2018-2019ArsenalStatistics&#47;1_rss.png' style='border: none' /></a></noscript><object class='tableauViz'  style='display:none;'><param name='host_url' value='https%3A%2F%2Fpublic.tableau.com%2F' /> <param name='embed_code_version' value='3' /> <param name='site_root' value='' /><param name='name' value='Arsenal2018-2019Statistics&#47;2018-2019ArsenalStatistics' /><param name='tabs' value='no' /><param name='toolbar' value='yes' /><param name='static_image' value='https:&#47;&#47;public.tableau.com&#47;static&#47;images&#47;Ar&#47;Arsenal2018-2019Statistics&#47;2018-2019ArsenalStatistics&#47;1.png' /> <param name='animate_transition' value='yes' /><param name='display_static_image' value='yes' /><param name='display_spinner' value='yes' /><param name='display_overlay' value='yes' /><param name='display_count' value='yes' /><param name='language' value='en' /><param name='filter' value='publish=yes' /></object></div>                <script type='text/javascript'>                    var divElement = document.getElementById('viz1609257771223');                    var vizElement = divElement.getElementsByTagName('object')[0];                    if ( divElement.offsetWidth > 800 ) { vizElement.style.width='1366px';vizElement.style.height='795px';} else if ( divElement.offsetWidth > 500 ) { vizElement.style.width='1366px';vizElement.style.height='795px';} else { vizElement.style.width='100%';vizElement.style.height='1227px';}                     var scriptElement = document.createElement('script');                    scriptElement.src = 'https://public.tableau.com/javascripts/api/viz_v1.js';                    vizElement.parentNode.insertBefore(scriptElement, vizElement);                </script>\n"
      ],
      "text/plain": [
       "<IPython.core.display.HTML object>"
      ]
     },
     "metadata": {},
     "output_type": "display_data"
    }
   ],
   "source": [
    "%%html\n",
    "<div class='tableauPlaceholder' id='viz1609257771223' style='position: relative'>\n",
    "    <noscript>\n",
    "        <a href='#'>\n",
    "            <img alt=' ' src='https:&#47;&#47;public.tableau.com&#47;static&#47;images&#47;Ar&#47;Arsenal2018-2019Statistics&#47;2018-2019ArsenalStatistics&#47;1_rss.png' style='border: none' />\n",
    "        </a>\n",
    "    </noscript>\n",
    "    <object class='tableauViz'  style='display:none;'>\n",
    "        <param name='host_url' value='https%3A%2F%2Fpublic.tableau.com%2F' /> \n",
    "        <param name='embed_code_version' value='3' /> <param name='site_root' value='' />\n",
    "        <param name='name' value='Arsenal2018-2019Statistics&#47;2018-2019ArsenalStatistics' />\n",
    "        <param name='tabs' value='no' /><param name='toolbar' value='yes' /><param name='static_image' value='https:&#47;&#47;public.tableau.com&#47;static&#47;images&#47;Ar&#47;Arsenal2018-2019Statistics&#47;2018-2019ArsenalStatistics&#47;1.png' />\n",
    "        <param name='animate_transition' value='yes' />\n",
    "        <param name='display_static_image' value='yes' />\n",
    "        <param name='display_spinner' value='yes' />\n",
    "        <param name='display_overlay' value='yes' />\n",
    "        <param name='display_count' value='yes' />\n",
    "        <param name='language' value='en' />\n",
    "        <param name='filter' value='publish=yes' />\n",
    "    </object>\n",
    "</div>\n",
    "<script type='text/javascript'>\n",
    "    var divElement = document.getElementById('viz1609257771223');\n",
    "    var vizElement = divElement.getElementsByTagName('object')[0];\n",
    "    if ( divElement.offsetWidth > 800 ) \n",
    "        { vizElement.style.width='1366px';vizElement.style.height='795px';} \n",
    "    else if ( divElement.offsetWidth > 500 ) \n",
    "        { vizElement.style.width='1366px';vizElement.style.height='795px';} \n",
    "    else \n",
    "        { vizElement.style.width='100%';vizElement.style.height='1227px';}\n",
    "        \n",
    "        var scriptElement = document.createElement('script');\n",
    "        scriptElement.src = 'https://public.tableau.com/javascripts/api/viz_v1.js';\n",
    "        vizElement.parentNode.insertBefore(scriptElement, vizElement);\n",
    "</script>"
   ]
  },
  {
   "cell_type": "markdown",
   "metadata": {},
   "source": [
    "Github, sometimes the tableau visualizations won’t show up. \n",
    "A quick way to load them is to copy notebook’s link on Github and \n",
    "paste the URL to;\n",
    "\n",
    "<a href=\"https://nbviewer.jupyter.org/\">**Jupyter’s nbviewer.**</a>"
   ]
  },
  {
   "cell_type": "code",
   "execution_count": null,
   "metadata": {},
   "outputs": [],
   "source": []
  }
 ],
 "metadata": {
  "kernelspec": {
   "display_name": "Python 3",
   "language": "python",
   "name": "python3"
  },
  "language_info": {
   "codemirror_mode": {
    "name": "ipython",
    "version": 3
   },
   "file_extension": ".py",
   "mimetype": "text/x-python",
   "name": "python",
   "nbconvert_exporter": "python",
   "pygments_lexer": "ipython3",
   "version": "3.8.3"
  }
 },
 "nbformat": 4,
 "nbformat_minor": 4
}
